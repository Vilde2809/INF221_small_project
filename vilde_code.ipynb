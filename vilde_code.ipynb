{
 "cells": [
  {
   "cell_type": "markdown",
   "metadata": {},
   "source": [
    "# MINI PROSJEKT- VILDE SITT FORSØK"
   ]
  },
  {
   "cell_type": "markdown",
   "metadata": {},
   "source": [
    "This small project aims to compare the real-life behavior of sorting algorithms with theoretical expectations. This requires measurements: real-life, physical experiments on computer code and data of repeated tests run on sorted data. In your paper, you shall implement and benchmark the following sorting algorithms, using the algorithms presented in pseudocode in the course:\n",
    "\n",
    "* Insertion sort\n",
    "* Merge sort\n",
    "* Quicksort\n",
    "\n",
    "In your benchmarks, you shall use test data suitable to test the the behavior of the algorithms under the worst-case, best case and average-case scenarios. In order to study the scaling behavior of algorithms with problem size, one usually increases problem size 𝑛 by a factor, e.g., 2, 10 or 16 instead of increasing the problem size linearly.\n",
    "You can limit your largest problem size so that the full set of all benchmarks do not execute long on your computer. Drop test cases that take a too long time (e.g., large sizes for quadratic algorithms)"
   ]
  },
  {
   "cell_type": "code",
   "execution_count": 9,
   "metadata": {},
   "outputs": [],
   "source": [
    "# Imports for the code\n",
    "import random\n",
    "import time\n",
    "from prettytable import PrettyTable\n",
    "import matplotlib.pyplot as plt"
   ]
  },
  {
   "cell_type": "markdown",
   "metadata": {},
   "source": [
    "## Insertion sort experiment"
   ]
  },
  {
   "cell_type": "code",
   "execution_count": 10,
   "metadata": {},
   "outputs": [
    {
     "name": "stdout",
     "output_type": "stream",
     "text": [
      "Sortert array er: [5, 6, 11, 12, 13]\n"
     ]
    }
   ],
   "source": [
    "def insertion_sort(A):\n",
    "    for j in range(1, len(A)):\n",
    "        key = A[j]\n",
    "        i = j - 1\n",
    "        while i >= 0 and A[i] > key:\n",
    "            A[i + 1] = A[i]  \n",
    "            i = i - 1\n",
    "        A[i + 1] = key  \n",
    "\n",
    "# For å teste koden med et eksempel\n",
    "arr = [12, 11, 13, 5, 6]\n",
    "insertion_sort(arr)\n",
    "print(\"Sortert array er:\", arr)\n"
   ]
  },
  {
   "cell_type": "markdown",
   "metadata": {},
   "source": [
    "### Cases:"
   ]
  },
  {
   "cell_type": "markdown",
   "metadata": {},
   "source": [
    "For insertion sort the best case would be to have all the best case occurs if the array is already sorted. The worst case would be if the array is in reverse, that is in decreasing order. The average case would be something in between this, which is a randomized array."
   ]
  },
  {
   "cell_type": "code",
   "execution_count": 11,
   "metadata": {},
   "outputs": [
    {
     "name": "stdout",
     "output_type": "stream",
     "text": [
      "+-----------+--------------------------+---------------------------+------------------------------------+\n",
      "| Størrelse | Beste tilfelle tid (sek) | Verste tilfelle tid (sek) | Gjennomsnittlig tilfelle tid (sek) |\n",
      "+-----------+--------------------------+---------------------------+------------------------------------+\n",
      "|     10    |         0.00000          |          0.00000          |              0.00000               |\n",
      "|    100    |         0.00000          |          0.00347          |              0.00113               |\n",
      "|    1000   |         0.00007          |          0.17301          |              0.10915               |\n",
      "|   10000   |         0.00597          |          11.72814         |              5.36735               |\n",
      "+-----------+--------------------------+---------------------------+------------------------------------+\n"
     ]
    }
   ],
   "source": [
    "def best_case(n):\n",
    "    return list(range(n))\n",
    "\n",
    "def worst_case_for_insertion_sort(n):\n",
    "    return list(range(n, 0, -1))\n",
    "\n",
    "def average_case(n):\n",
    "    lst = list(range(n))\n",
    "    random.shuffle(lst)\n",
    "    return lst\n",
    "\n",
    "# Funksjon for å måle kjøretid av Insertion Sort\n",
    "def measure_sort_time(func, data):\n",
    "    start_time = time.time()\n",
    "    func(data)\n",
    "    return time.time() - start_time\n",
    "\n",
    "# Teste størrelser\n",
    "sizes = [10, 100, 1000, 10000]  # Insertion Sort kan være svært langsom for store størrelser\n",
    "\n",
    "# Tomme lister\n",
    "best_times = []\n",
    "worst_times = []\n",
    "average_times = []\n",
    "\n",
    "# Kjøre tester\n",
    "table = PrettyTable()\n",
    "table.field_names = [\"Størrelse\", \"Beste tilfelle tid (sek)\", \"Verste tilfelle tid (sek)\", \"Gjennomsnittlig tilfelle tid (sek)\"]\n",
    "\n",
    "for size in sizes:\n",
    "    data_best = best_case(size)\n",
    "    time_best = measure_sort_time(insertion_sort, data_best[:])\n",
    "    best_times.append(time_best)\n",
    "    \n",
    "    data_worst = worst_case_for_insertion_sort(size)\n",
    "    time_worst = measure_sort_time(insertion_sort, data_worst[:])\n",
    "    worst_times.append(time_worst)\n",
    "    \n",
    "    data_average = average_case(size)\n",
    "    time_average = measure_sort_time(insertion_sort, data_average[:])\n",
    "    average_times.append(time_average)\n",
    "    \n",
    "    # Legg til en ny rad i tabellen for hver størrelse\n",
    "    table.add_row([size, f\"{time_best:.5f}\", f\"{time_worst:.5f}\", f\"{time_average:.5f}\"])\n",
    "\n",
    "# Skriv ut tabellen\n",
    "print(table)\n"
   ]
  },
  {
   "cell_type": "code",
   "execution_count": null,
   "metadata": {},
   "outputs": [],
   "source": []
  }
 ],
 "metadata": {
  "kernelspec": {
   "display_name": "dat300_env",
   "language": "python",
   "name": "python3"
  },
  "language_info": {
   "codemirror_mode": {
    "name": "ipython",
    "version": 3
   },
   "file_extension": ".py",
   "mimetype": "text/x-python",
   "name": "python",
   "nbconvert_exporter": "python",
   "pygments_lexer": "ipython3",
   "version": "3.10.8"
  }
 },
 "nbformat": 4,
 "nbformat_minor": 2
}
