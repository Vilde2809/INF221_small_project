{
 "cells": [
  {
   "cell_type": "markdown",
   "metadata": {},
   "source": [
    "# MINI PROSJEKT- VILDE SITT FORSØK"
   ]
  },
  {
   "cell_type": "markdown",
   "metadata": {},
   "source": [
    "This small project aims to compare the real-life behavior of sorting algorithms with theoretical expectations. This requires measurements: real-life, physical experiments on computer code and data of repeated tests run on sorted data. In your paper, you shall implement and benchmark the following sorting algorithms, using the algorithms presented in pseudocode in the course:\n",
    "\n",
    "* Insertion sort\n",
    "* Merge sort\n",
    "* Quicksort\n",
    "\n",
    "In your benchmarks, you shall use test data suitable to test the the behavior of the algorithms under the worst-case, best case and average-case scenarios. In order to study the scaling behavior of algorithms with problem size, one usually increases problem size 𝑛 by a factor, e.g., 2, 10 or 16 instead of increasing the problem size linearly.\n",
    "You can limit your largest problem size so that the full set of all benchmarks do not execute long on your computer. Drop test cases that take a too long time (e.g., large sizes for quadratic algorithms)"
   ]
  },
  {
   "cell_type": "code",
   "execution_count": null,
   "metadata": {},
   "outputs": [],
   "source": [
    "import random\n",
    "import time\n"
   ]
  },
  {
   "cell_type": "markdown",
   "metadata": {},
   "source": [
    "## Insertion sort experiment"
   ]
  },
  {
   "cell_type": "code",
   "execution_count": 3,
   "metadata": {},
   "outputs": [
    {
     "name": "stdout",
     "output_type": "stream",
     "text": [
      "Sortert array er: [5, 6, 11, 12, 13]\n"
     ]
    }
   ],
   "source": [
    "def insertion_sort(A):\n",
    "    for j in range(1, len(A)):\n",
    "        key = A[j]\n",
    "        # Sett det nåværende elementet til key\n",
    "        # og sammenlign det med sine forgjengere\n",
    "        i = j - 1\n",
    "        while i >= 0 and A[i] > key:\n",
    "            A[i + 1] = A[i]  # Flytt elementet ett hakk til høyre\n",
    "            i = i - 1\n",
    "        A[i + 1] = key  # Sett key til dens riktige posisjon\n",
    "\n",
    "# For å teste koden med et eksempel\n",
    "arr = [12, 11, 13, 5, 6]\n",
    "insertion_sort(arr)\n",
    "print(\"Sortert array er:\", arr)\n"
   ]
  },
  {
   "cell_type": "markdown",
   "metadata": {},
   "source": [
    "### Cases:"
   ]
  },
  {
   "cell_type": "code",
   "execution_count": 4,
   "metadata": {},
   "outputs": [],
   "source": [
    "# Funksjonene for å generere datasett\n",
    "def best_case(n):\n",
    "    return list(range(n))\n",
    "\n",
    "def worst_case_for_insertion_sort(n):\n",
    "    return list(range(n, 0, -1))\n",
    "\n",
    "def average_case(n):\n",
    "    lst = list(range(n))\n",
    "    random.shuffle(lst)\n",
    "    return lst\n",
    "\n",
    "# Funksjon for å måle kjøretid av Insertion Sort\n",
    "def measure_sort_time(func, data):\n",
    "    start_time = time.time()\n",
    "    func(data)\n",
    "    return time.time() - start_time\n",
    "\n",
    "# Test størrelser\n",
    "sizes = [10, 100, 1000, 10000]  # endre denne etter behov, men vær oppmerksom på at Insertion Sort kan være svært langsom for store størrelser\n",
    "\n",
    "# Kjør tester\n",
    "for size in sizes:\n",
    "    data_best = best_case(size)\n",
    "    time_best = measure_sort_time(insertion_sort, data_best[:])  # Kopier data for å unngå å sortere allerede sorterte data\n",
    "    \n",
    "    data_worst = worst_case_for_insertion_sort(size)\n",
    "    time_worst = measure_sort_time(insertion_sort, data_worst[:])  # Kopier data her også\n",
    "\n",
    "    data_average = average_case(size)\n",
    "    time_average = measure_sort_time(insertion_sort, data_average[:])  # Kopier data her også\n",
    "    \n",
    "    print(f\"Størrelse: {size} - Beste tilfelle tid: {time_best:.5f} sek, Verste tilfelle tid: {time_worst:.5f} sek, Gjennomsnittlig tilfelle tid: {time_average:.5f} sek\")\n"
   ]
  },
  {
   "cell_type": "markdown",
   "metadata": {},
   "source": [
    "## Merge sort experiment"
   ]
  },
  {
   "cell_type": "code",
   "execution_count": null,
   "metadata": {},
   "outputs": [],
   "source": []
  },
  {
   "cell_type": "markdown",
   "metadata": {},
   "source": [
    "## Quick sort experiment"
   ]
  },
  {
   "cell_type": "markdown",
   "metadata": {},
   "source": []
  }
 ],
 "metadata": {
  "kernelspec": {
   "display_name": "dat300_env",
   "language": "python",
   "name": "python3"
  },
  "language_info": {
   "codemirror_mode": {
    "name": "ipython",
    "version": 3
   },
   "file_extension": ".py",
   "mimetype": "text/x-python",
   "name": "python",
   "nbconvert_exporter": "python",
   "pygments_lexer": "ipython3",
   "version": "3.10.8"
  }
 },
 "nbformat": 4,
 "nbformat_minor": 2
}
