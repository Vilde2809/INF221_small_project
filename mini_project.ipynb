{
 "cells": [
  {
   "cell_type": "markdown",
   "metadata": {},
   "source": [
    "### Small project\n",
    "\n",
    "[Skriv inn noe tekst]"
   ]
  },
  {
   "cell_type": "code",
   "execution_count": null,
   "metadata": {},
   "outputs": [],
   "source": [
    "# imports\n",
    "import random\n",
    "import time\n",
    "from prettytable import PrettyTable\n",
    "import matplotlib.pyplot as plt"
   ]
  },
  {
   "cell_type": "markdown",
   "metadata": {},
   "source": [
    "### Insertion sort"
   ]
  },
  {
   "cell_type": "code",
   "execution_count": null,
   "metadata": {},
   "outputs": [],
   "source": [
    "def insertion_sort(A):\n",
    "    for j in range(1, len(A)):\n",
    "        key = A[j]\n",
    "        i = j - 1\n",
    "        while i >= 0 and A[i] > key:\n",
    "            A[i + 1] = A[i]  \n",
    "            i = i - 1\n",
    "        A[i + 1] = key  \n",
    "\n",
    "# For å teste koden med et eksempel\n",
    "arr = [12, 11, 13, 5, 6]\n",
    "insertion_sort(arr)\n",
    "print(\"Sortert array er:\", arr)"
   ]
  },
  {
   "cell_type": "markdown",
   "metadata": {},
   "source": [
    "### Merge sort"
   ]
  },
  {
   "cell_type": "code",
   "execution_count": null,
   "metadata": {},
   "outputs": [],
   "source": [
    "# This function sorts an array using the merge sort algorithm\n",
    "def merge_sort(A, p, r):\n",
    "    if p < r:\n",
    "        q = (p + r) // 2        # Splits the array into two approximately equal halves\n",
    "        merge_sort(A, p, q)     # Recursively sorts the left half\n",
    "        merge_sort(A, q + 1, r) # Recursively sorts the right half\n",
    "        merge(A, p, q, r)       # Merges the two sorted halves\n",
    "\n",
    "\n",
    "# This function merges the two sorted arrays\n",
    "# A is the array and p, q, r are indices where p <= q < r\n",
    "def merge(A, p, q, r):\n",
    "    \n",
    "    # Initialises the variables to represent the two halves\n",
    "    n1 = q - p + 1     \n",
    "    n2 = r - q          \n",
    "    \n",
    "    left = [0] * (n1)    \n",
    "    right = [0] * (n2)  \n",
    "\n",
    "    # Copies the two halves into the left and right arrays\n",
    "    for i in range(0, n1):\n",
    "        left[i] = A[p + i]\n",
    "\n",
    "    for j in range(0, n2):\n",
    "        right[j] = A[q + 1 + j]\n",
    "    \n",
    "    i = j = 0\n",
    "    k = p\n",
    "\n",
    "    # Merges the two halves into the original array\n",
    "    while i < n1 and j < n2:\n",
    "        if left[i] <= right[j]:\n",
    "            A[k] = left[i]\n",
    "            i += 1\n",
    "        else:\n",
    "            A[k] = right[j]\n",
    "            j += 1\n",
    "        k += 1\n",
    "    \n",
    "    while i < n1:\n",
    "        A[k] = left[i]\n",
    "        i += 1\n",
    "        k += 1\n",
    "\n",
    "    while j < n2:\n",
    "        A[k] = right[j]\n",
    "        j += 1\n",
    "        k += 1\n",
    "\n",
    "# Runs the merge sort algorithm using the array A\n",
    "A = [5, 2, 4, 7, 1, 3, 2, 6]\n",
    "merge_sort(A, 0, len(A)-1)\n",
    "print(A)"
   ]
  },
  {
   "cell_type": "markdown",
   "metadata": {},
   "source": [
    "### Quick sort"
   ]
  },
  {
   "cell_type": "code",
   "execution_count": null,
   "metadata": {},
   "outputs": [],
   "source": []
  },
  {
   "cell_type": "markdown",
   "metadata": {},
   "source": [
    "### Benchmarking"
   ]
  },
  {
   "cell_type": "code",
   "execution_count": null,
   "metadata": {},
   "outputs": [],
   "source": [
    "def best_case(n):\n",
    "    return list(range(n))\n",
    "\n",
    "def worst_case(n):\n",
    "    return list(range(n, 0, -1))\n",
    "\n",
    "def average_case(n):\n",
    "    lst = list(range(n))\n",
    "    random.shuffle(lst)\n",
    "    return lst\n",
    "\n",
    "# Funksjon for å måle kjøretid av Insertion Sort\n",
    "def measure_sort_time(func, data):\n",
    "    start_time = time.time()\n",
    "    func(data)\n",
    "    return time.time() - start_time\n",
    "\n",
    "# Teste størrelser\n",
    "sizes = [10, 100, 1000, 10000]  # Insertion Sort kan være svært langsom for store størrelser\n",
    "\n",
    "# Tomme lister\n",
    "best_times = []\n",
    "worst_times = []\n",
    "average_times = []\n",
    "\n",
    "# Kjøre tester\n",
    "table = PrettyTable()\n",
    "table.field_names = [\"Størrelse\", \"Beste tilfelle tid (sek)\", \"Verste tilfelle tid (sek)\", \"Gjennomsnittlig tilfelle tid (sek)\"]\n",
    "\n",
    "for size in sizes:\n",
    "    data_best = best_case(size)\n",
    "    time_best = measure_sort_time(insertion_sort, data_best[:])\n",
    "    best_times.append(time_best)\n",
    "    \n",
    "    data_worst = worst_case(size)\n",
    "    time_worst = measure_sort_time(insertion_sort, data_worst[:])\n",
    "    worst_times.append(time_worst)\n",
    "    \n",
    "    data_average = average_case(size)\n",
    "    time_average = measure_sort_time(insertion_sort, data_average[:])\n",
    "    average_times.append(time_average)\n",
    "    \n",
    "    # Legger til en ny rad i tabellen for hver størrelse\n",
    "    table.add_row([size, f\"{time_best:.8f}\", f\"{time_worst:.8f}\", f\"{time_average:.8f}\"])\n",
    "\n",
    "print(table)\n"
   ]
  },
  {
   "cell_type": "markdown",
   "metadata": {},
   "source": [
    "### Vizualization"
   ]
  },
  {
   "cell_type": "code",
   "execution_count": null,
   "metadata": {},
   "outputs": [],
   "source": [
    "plt.figure(figsize=[10,5])\n",
    "plt.plot(sizes, best_times, 'g-', label='Best Case')\n",
    "plt.plot(sizes, worst_times, 'r-', label='Worst Case')\n",
    "plt.plot(sizes, average_times, 'b-', label='Average Case')\n",
    "plt.xlabel('Array Size')\n",
    "plt.ylabel('Time (sec)')\n",
    "plt.title('Insertion Sort Time')\n",
    "plt.legend()\n",
    "plt.grid(True)\n",
    "plt.xscale('log') \n",
    "plt.yscale('log')\n",
    "plt.show()"
   ]
  }
 ],
 "metadata": {
  "language_info": {
   "name": "python"
  }
 },
 "nbformat": 4,
 "nbformat_minor": 2
}
