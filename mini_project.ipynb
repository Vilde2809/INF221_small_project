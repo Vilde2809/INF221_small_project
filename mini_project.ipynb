{
 "cells": [
  {
   "cell_type": "markdown",
   "metadata": {},
   "source": [
    "### Small project\n",
    "\n",
    "[Skriv teskt her elns]"
   ]
  },
  {
   "cell_type": "code",
   "execution_count": null,
   "metadata": {},
   "outputs": [],
   "source": [
    "# Imports\n",
    "import matplotlib.pyplot as plt\n",
    "import random\n",
    "import time\n",
    "import numpy as np\n",
    "import pandas as pd\n",
    "from prettytable import PrettyTable"
   ]
  },
  {
   "cell_type": "markdown",
   "metadata": {},
   "source": [
    "### Insertion sort algorithm"
   ]
  },
  {
   "cell_type": "code",
   "execution_count": null,
   "metadata": {},
   "outputs": [],
   "source": []
  },
  {
   "cell_type": "markdown",
   "metadata": {},
   "source": [
    "### Merge sort algorithm"
   ]
  },
  {
   "cell_type": "code",
   "execution_count": 32,
   "metadata": {},
   "outputs": [
    {
     "name": "stdout",
     "output_type": "stream",
     "text": [
      "[1, 2, 2, 3, 4, 5, 6, 7]\n"
     ]
    }
   ],
   "source": [
    "# This function sorts an array using the merge sort algorithm\n",
    "def merge_sort(A, p, r):\n",
    "    if p < r:\n",
    "        q = (p + r) // 2        # Splits the array into two approximately equal halves\n",
    "        merge_sort(A, p, q)     # Recursively sorts the left half\n",
    "        merge_sort(A, q + 1, r) # Recursively sorts the right half\n",
    "        merge(A, p, q, r)       # Merges the two sorted halves\n",
    "\n",
    "\n",
    "# This function merges the two sorted arrays\n",
    "# A is the array and p, q, r are indices where p <= q < r\n",
    "def merge(A, p, q, r):\n",
    "    \n",
    "    # Initialises the variables to represent the two halves\n",
    "    n1 = q - p + 1     \n",
    "    n2 = r - q          \n",
    "    \n",
    "    left = [0] * (n1)    \n",
    "    right = [0] * (n2)  \n",
    "\n",
    "    # Copies the two halves into the left and right arrays\n",
    "    for i in range(0, n1):\n",
    "        left[i] = A[p + i]\n",
    "\n",
    "    for j in range(0, n2):\n",
    "        right[j] = A[q + 1 + j]\n",
    "    \n",
    "    i = j = 0\n",
    "    k = p\n",
    "\n",
    "    # Merges the two halves into the original array\n",
    "    while i < n1 and j < n2:\n",
    "        if left[i] <= right[j]:\n",
    "            A[k] = left[i]\n",
    "            i += 1\n",
    "        else:\n",
    "            A[k] = right[j]\n",
    "            j += 1\n",
    "        k += 1\n",
    "    \n",
    "    while i < n1:\n",
    "        A[k] = left[i]\n",
    "        i += 1\n",
    "        k += 1\n",
    "\n",
    "    while j < n2:\n",
    "        A[k] = right[j]\n",
    "        j += 1\n",
    "        k += 1\n",
    "\n",
    "# Runs the merge sort algorithm using the array A\n",
    "A = [5, 2, 4, 7, 1, 3, 2, 6]\n",
    "merge_sort(A, 0, len(A)-1)\n",
    "print(A)"
   ]
  },
  {
   "cell_type": "markdown",
   "metadata": {},
   "source": [
    "### Quicksort algorithm"
   ]
  },
  {
   "cell_type": "code",
   "execution_count": null,
   "metadata": {},
   "outputs": [],
   "source": []
  },
  {
   "cell_type": "markdown",
   "metadata": {},
   "source": [
    "### Benchmarking"
   ]
  },
  {
   "cell_type": "code",
   "execution_count": null,
   "metadata": {},
   "outputs": [],
   "source": []
  }
 ],
 "metadata": {
  "kernelspec": {
   "display_name": "dat200_env",
   "language": "python",
   "name": "python3"
  },
  "language_info": {
   "codemirror_mode": {
    "name": "ipython",
    "version": 3
   },
   "file_extension": ".py",
   "mimetype": "text/x-python",
   "name": "python",
   "nbconvert_exporter": "python",
   "pygments_lexer": "ipython3",
   "version": "3.10.8"
  }
 },
 "nbformat": 4,
 "nbformat_minor": 2
}
