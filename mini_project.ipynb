{
 "cells": [
  {
   "cell_type": "markdown",
   "metadata": {},
   "source": [
    "### Small project\n",
    "\n",
    "[Skriv inn noe tekst]"
   ]
  },
  {
   "cell_type": "code",
   "execution_count": null,
   "metadata": {},
   "outputs": [],
   "source": [
    "# imports"
   ]
  },
  {
   "cell_type": "markdown",
   "metadata": {},
   "source": [
    "### Insertion sort"
   ]
  },
  {
   "cell_type": "code",
   "execution_count": null,
   "metadata": {},
   "outputs": [],
   "source": []
  },
  {
   "cell_type": "markdown",
   "metadata": {},
   "source": [
    "### Merge sort"
   ]
  },
  {
   "cell_type": "code",
   "execution_count": null,
   "metadata": {},
   "outputs": [],
   "source": [
    "# This function sorts an array using the merge sort algorithm\n",
    "def merge_sort(A, p, r):\n",
    "    if p < r:\n",
    "        q = (p + r) // 2        # Splits the array into two approximately equal halves\n",
    "        merge_sort(A, p, q)     # Recursively sorts the left half\n",
    "        merge_sort(A, q + 1, r) # Recursively sorts the right half\n",
    "        merge(A, p, q, r)       # Merges the two sorted halves\n",
    "\n",
    "\n",
    "# This function merges the two sorted arrays\n",
    "# A is the array and p, q, r are indices where p <= q < r\n",
    "def merge(A, p, q, r):\n",
    "    \n",
    "    # Initialises the variables to represent the two halves\n",
    "    n1 = q - p + 1     \n",
    "    n2 = r - q          \n",
    "    \n",
    "    left = [0] * (n1)    \n",
    "    right = [0] * (n2)  \n",
    "\n",
    "    # Copies the two halves into the left and right arrays\n",
    "    for i in range(0, n1):\n",
    "        left[i] = A[p + i]\n",
    "\n",
    "    for j in range(0, n2):\n",
    "        right[j] = A[q + 1 + j]\n",
    "    \n",
    "    i = j = 0\n",
    "    k = p\n",
    "\n",
    "    # Merges the two halves into the original array\n",
    "    while i < n1 and j < n2:\n",
    "        if left[i] <= right[j]:\n",
    "            A[k] = left[i]\n",
    "            i += 1\n",
    "        else:\n",
    "            A[k] = right[j]\n",
    "            j += 1\n",
    "        k += 1\n",
    "    \n",
    "    while i < n1:\n",
    "        A[k] = left[i]\n",
    "        i += 1\n",
    "        k += 1\n",
    "\n",
    "    while j < n2:\n",
    "        A[k] = right[j]\n",
    "        j += 1\n",
    "        k += 1\n",
    "\n",
    "# Runs the merge sort algorithm using the array A\n",
    "A = [5, 2, 4, 7, 1, 3, 2, 6]\n",
    "merge_sort(A, 0, len(A)-1)\n",
    "print(A)"
   ]
  },
  {
   "cell_type": "markdown",
   "metadata": {},
   "source": [
    "### Quick sort"
   ]
  },
  {
   "cell_type": "code",
   "execution_count": null,
   "metadata": {},
   "outputs": [],
   "source": []
  },
  {
   "cell_type": "markdown",
   "metadata": {},
   "source": [
    "### Benchmarking"
   ]
  },
  {
   "cell_type": "code",
   "execution_count": null,
   "metadata": {},
   "outputs": [],
   "source": []
  }
 ],
 "metadata": {
  "language_info": {
   "name": "python"
  }
 },
 "nbformat": 4,
 "nbformat_minor": 2
}
