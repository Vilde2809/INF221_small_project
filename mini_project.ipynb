{
 "cells": [
  {
   "cell_type": "markdown",
   "metadata": {},
   "source": [
    "## Small project\n",
    "\n",
    "This small project aims to compare the real-life behavior of sorting algorithms with theoretical expectations. This requires measurements: real-life, physical experiments on computer code and data of repeated tests run on sorted data. In your paper, you shall implement and benchmark the following sorting algorithms, using the algorithms presented in pseudocode in the course:\n",
    "\n",
    "* Insertion sort\n",
    "* Merge sort\n",
    "* Quicksort\n",
    "\n",
    "In your benchmarks, you shall use test data suitable to test the the behavior of the algorithms under the worst-case, best case and average-case scenarios. In order to study the scaling behavior of algorithms with problem size, one usually increases problem size 𝑛 by a factor, e.g., 2, 10 or 16 instead of increasing the problem size linearly.\n",
    "You can limit your largest problem size so that the full set of all benchmarks do not execute long on your computer. Drop test cases that take a too long time (e.g., large sizes for quadratic algorithms)"
   ]
  },
  {
   "cell_type": "code",
   "execution_count": 1,
   "metadata": {},
   "outputs": [],
   "source": [
    "# imports\n",
    "import random\n",
    "import time\n",
    "from prettytable import PrettyTable\n",
    "import matplotlib.pyplot as plt"
   ]
  },
  {
   "cell_type": "markdown",
   "metadata": {},
   "source": [
    "### Insertion sort"
   ]
  },
  {
   "cell_type": "code",
   "execution_count": 2,
   "metadata": {},
   "outputs": [
    {
     "name": "stdout",
     "output_type": "stream",
     "text": [
      "Sortert array er: [5, 6, 11, 12, 13]\n"
     ]
    }
   ],
   "source": [
    "def insertion_sort(A):\n",
    "    for j in range(1, len(A)):\n",
    "        key = A[j]\n",
    "        i = j - 1\n",
    "        while i >= 0 and A[i] > key:\n",
    "            A[i + 1] = A[i]  \n",
    "            i = i - 1\n",
    "        A[i + 1] = key  "
   ]
  },
  {
   "cell_type": "markdown",
   "metadata": {},
   "source": [
    "### Merge sort"
   ]
  },
  {
   "cell_type": "code",
   "execution_count": 3,
   "metadata": {},
   "outputs": [
    {
     "name": "stdout",
     "output_type": "stream",
     "text": [
      "[1, 2, 2, 3, 4, 5, 6, 7]\n"
     ]
    }
   ],
   "source": [
    "# This function sorts an array using the merge sort algorithm\n",
    "def merge_sort(A, p, r):\n",
    "    if p < r:\n",
    "        q = (p + r) // 2        # Splits the array into two approximately equal halves\n",
    "        merge_sort(A, p, q)     # Recursively sorts the left half\n",
    "        merge_sort(A, q + 1, r) # Recursively sorts the right half\n",
    "        merge(A, p, q, r)       # Merges the two sorted halves\n",
    "\n",
    "\n",
    "# This function merges the two sorted arrays\n",
    "# A is the array and p, q, r are indices where p <= q < r\n",
    "def merge(A, p, q, r):\n",
    "    \n",
    "    # Initialises the variables to represent the two halves\n",
    "    n1 = q - p + 1     \n",
    "    n2 = r - q          \n",
    "    \n",
    "    left = [0] * (n1)    \n",
    "    right = [0] * (n2)  \n",
    "\n",
    "    # Copies the two halves into the left and right arrays\n",
    "    for i in range(0, n1):\n",
    "        left[i] = A[p + i]\n",
    "\n",
    "    for j in range(0, n2):\n",
    "        right[j] = A[q + 1 + j]\n",
    "    \n",
    "    i = j = 0\n",
    "    k = p\n",
    "\n",
    "    # Merges the two halves into the original array\n",
    "    while i < n1 and j < n2:\n",
    "        if left[i] <= right[j]:\n",
    "            A[k] = left[i]\n",
    "            i += 1\n",
    "        else:\n",
    "            A[k] = right[j]\n",
    "            j += 1\n",
    "        k += 1\n",
    "    \n",
    "    while i < n1:\n",
    "        A[k] = left[i]\n",
    "        i += 1\n",
    "        k += 1\n",
    "\n",
    "    while j < n2:\n",
    "        A[k] = right[j]\n",
    "        j += 1\n",
    "        k += 1"
   ]
  },
  {
   "cell_type": "markdown",
   "metadata": {},
   "source": [
    "### Quick sort"
   ]
  },
  {
   "cell_type": "code",
   "execution_count": 4,
   "metadata": {},
   "outputs": [
    {
     "name": "stdout",
     "output_type": "stream",
     "text": [
      "[1, 2, 3, 4, 5, 6, 7, 8, 9, 10]\n"
     ]
    }
   ],
   "source": [
    "def quicksort(A, p, r):\n",
    "    if p < r:\n",
    "        q = partition(A, p, r)\n",
    "        quicksort(A, p, q - 1)\n",
    "        quicksort(A, q + 1, r)\n",
    "\n",
    "def partition(A, p, r):\n",
    "    x = A[r]  # Pivot selection\n",
    "    i = p - 1\n",
    "    for j in range(p, r):\n",
    "        if A[j] <= x:\n",
    "            i = i + 1\n",
    "            A[i], A[j] = A[j], A[i]\n",
    "    A[i + 1], A[r] = A[r], A[i + 1]\n",
    "    return i + 1"
   ]
  },
  {
   "cell_type": "markdown",
   "metadata": {},
   "source": [
    "### Benchmarking"
   ]
  },
  {
   "cell_type": "code",
   "execution_count": 5,
   "metadata": {},
   "outputs": [
    {
     "name": "stdout",
     "output_type": "stream",
     "text": [
      "+-----------+--------------------------+---------------------------+------------------------------------+\n",
      "| Størrelse | Beste tilfelle tid (sek) | Verste tilfelle tid (sek) | Gjennomsnittlig tilfelle tid (sek) |\n",
      "+-----------+--------------------------+---------------------------+------------------------------------+\n",
      "|     10    |        0.00000000        |         0.00000000        |             0.00000000             |\n",
      "|    100    |        0.00000000        |         0.00299859        |             0.00000000             |\n",
      "|    1000   |        0.00100064        |         0.12164950        |             0.05325413             |\n",
      "|   10000   |        0.00256681        |         7.40758681        |             3.97566628             |\n",
      "+-----------+--------------------------+---------------------------+------------------------------------+\n"
     ]
    }
   ],
   "source": [
    "def best_case(n):\n",
    "    return list(range(n))\n",
    "\n",
    "def worst_case(n):\n",
    "    return list(range(n, 0, -1))\n",
    "\n",
    "def average_case(n):\n",
    "    lst = list(range(n))\n",
    "    random.shuffle(lst)\n",
    "    return lst\n",
    "\n",
    "# Funksjon for å måle kjøretid av Insertion Sort\n",
    "def measure_sort_time(func, data):\n",
    "    start_time = time.time()\n",
    "    func(data)\n",
    "    return time.time() - start_time\n",
    "\n",
    "# Teste størrelser\n",
    "sizes = [10, 100, 1000, 10000]  # Insertion Sort kan være svært langsom for store størrelser\n",
    "\n",
    "# Tomme lister\n",
    "best_times = []\n",
    "worst_times = []\n",
    "average_times = []\n",
    "\n",
    "# Kjøre tester\n",
    "table = PrettyTable()\n",
    "table.field_names = [\"Størrelse\", \"Beste tilfelle tid (sek)\", \"Verste tilfelle tid (sek)\", \"Gjennomsnittlig tilfelle tid (sek)\"]\n",
    "\n",
    "for size in sizes:\n",
    "    data_best = best_case(size)\n",
    "    time_best = measure_sort_time(insertion_sort, data_best[:])\n",
    "    best_times.append(time_best)\n",
    "    \n",
    "    data_worst = worst_case(size)\n",
    "    time_worst = measure_sort_time(insertion_sort, data_worst[:])\n",
    "    worst_times.append(time_worst)\n",
    "    \n",
    "    data_average = average_case(size)\n",
    "    time_average = measure_sort_time(insertion_sort, data_average[:])\n",
    "    average_times.append(time_average)\n",
    "    \n",
    "    # Legger til en ny rad i tabellen for hver størrelse\n",
    "    table.add_row([size, f\"{time_best:.8f}\", f\"{time_worst:.8f}\", f\"{time_average:.8f}\"])\n",
    "\n",
    "print(table)\n"
   ]
  },
  {
   "cell_type": "markdown",
   "metadata": {},
   "source": [
    "### Vizualization"
   ]
  },
  {
   "cell_type": "code",
   "execution_count": 7,
   "metadata": {},
   "outputs": [
    {
     "data": {
      "image/png": "[encoded data removed]",
      "text/plain": [
       "<Figure size 1000x500 with 1 Axes>"
      ]
     },
     "metadata": {},
     "output_type": "display_data"
    }
   ],
   "source": [
    "plt.figure(figsize=[10,5])\n",
    "plt.plot(sizes, best_times, 'g-', label='Sorted array')\n",
    "plt.plot(sizes, worst_times, 'r-', label='Reverse sorted array')\n",
    "plt.plot(sizes, average_times, 'b-', label='Random sorted array')\n",
    "plt.xlabel('Array Size')\n",
    "plt.ylabel('Time (sec)')\n",
    "plt.title('Insertion Sort Time')\n",
    "plt.legend()\n",
    "plt.grid(True)\n",
    "plt.xscale('log') \n",
    "plt.yscale('log')\n",
    "plt.show()"
   ]
  }
 ],
 "metadata": {
  "kernelspec": {
   "display_name": "dat300_env",
   "language": "python",
   "name": "python3"
  },
  "language_info": {
   "codemirror_mode": {
    "name": "ipython",
    "version": 3
   },
   "file_extension": ".py",
   "mimetype": "text/x-python",
   "name": "python",
   "nbconvert_exporter": "python",
   "pygments_lexer": "ipython3",
   "version": "3.10.8"
  }
 },
 "nbformat": 4,
 "nbformat_minor": 2
}
